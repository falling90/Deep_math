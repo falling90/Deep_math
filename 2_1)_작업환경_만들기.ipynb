{
  "nbformat": 4,
  "nbformat_minor": 0,
  "metadata": {
    "colab": {
      "name": "2-1) 작업환경 만들기.ipynb",
      "provenance": [],
      "authorship_tag": "ABX9TyOnOWALtJeAQVRq1MC/gZg3",
      "include_colab_link": true
    },
    "kernelspec": {
      "name": "python3",
      "display_name": "Python 3"
    },
    "language_info": {
      "name": "python"
    }
  },
  "cells": [
    {
      "cell_type": "markdown",
      "metadata": {
        "id": "view-in-github",
        "colab_type": "text"
      },
      "source": [
        "<a href=\"https://colab.research.google.com/github/falling90/Deep_math/blob/main/2_1)_%EC%9E%91%EC%97%85%ED%99%98%EA%B2%BD_%EB%A7%8C%EB%93%A4%EA%B8%B0.ipynb\" target=\"_parent\"><img src=\"https://colab.research.google.com/assets/colab-badge.svg\" alt=\"Open In Colab\"/></a>"
      ]
    },
    {
      "cell_type": "code",
      "metadata": {
        "colab": {
          "base_uri": "https://localhost:8080/"
        },
        "id": "vorbg4ZsYkiy",
        "outputId": "fb719b70-2306-4f3d-d3cb-88dcc780af7b"
      },
      "source": [
        "pip --version"
      ],
      "execution_count": null,
      "outputs": [
        {
          "output_type": "stream",
          "text": [
            "pip 19.3.1 from /usr/local/lib/python3.7/dist-packages/pip (python 3.7)\n"
          ],
          "name": "stdout"
        }
      ]
    },
    {
      "cell_type": "code",
      "metadata": {
        "colab": {
          "base_uri": "https://localhost:8080/"
        },
        "id": "YIzMu_zDY7mp",
        "outputId": "e7e76219-e3d7-4e2e-ded0-98e5b43ecdd0"
      },
      "source": [
        "pip install --upgrade pip"
      ],
      "execution_count": null,
      "outputs": [
        {
          "output_type": "stream",
          "text": [
            "Collecting pip\n",
            "\u001b[?25l  Downloading https://files.pythonhosted.org/packages/ac/cf/0cc542fc93de2f3b9b53cb979c7d1118cffb93204afb46299a9f858e113f/pip-21.1-py3-none-any.whl (1.5MB)\n",
            "\r\u001b[K     |▏                               | 10kB 10.0MB/s eta 0:00:01\r\u001b[K     |▍                               | 20kB 13.9MB/s eta 0:00:01\r\u001b[K     |▋                               | 30kB 16.4MB/s eta 0:00:01\r\u001b[K     |▉                               | 40kB 9.9MB/s eta 0:00:01\r\u001b[K     |█                               | 51kB 7.6MB/s eta 0:00:01\r\u001b[K     |█▎                              | 61kB 6.9MB/s eta 0:00:01\r\u001b[K     |█▌                              | 71kB 7.8MB/s eta 0:00:01\r\u001b[K     |█▊                              | 81kB 7.8MB/s eta 0:00:01\r\u001b[K     |██                              | 92kB 7.0MB/s eta 0:00:01\r\u001b[K     |██▏                             | 102kB 7.6MB/s eta 0:00:01\r\u001b[K     |██▎                             | 112kB 7.6MB/s eta 0:00:01\r\u001b[K     |██▌                             | 122kB 7.6MB/s eta 0:00:01\r\u001b[K     |██▊                             | 133kB 7.6MB/s eta 0:00:01\r\u001b[K     |███                             | 143kB 7.6MB/s eta 0:00:01\r\u001b[K     |███▏                            | 153kB 7.6MB/s eta 0:00:01\r\u001b[K     |███▍                            | 163kB 7.6MB/s eta 0:00:01\r\u001b[K     |███▋                            | 174kB 7.6MB/s eta 0:00:01\r\u001b[K     |███▉                            | 184kB 7.6MB/s eta 0:00:01\r\u001b[K     |████                            | 194kB 7.6MB/s eta 0:00:01\r\u001b[K     |████▎                           | 204kB 7.6MB/s eta 0:00:01\r\u001b[K     |████▌                           | 215kB 7.6MB/s eta 0:00:01\r\u001b[K     |████▋                           | 225kB 7.6MB/s eta 0:00:01\r\u001b[K     |████▉                           | 235kB 7.6MB/s eta 0:00:01\r\u001b[K     |█████                           | 245kB 7.6MB/s eta 0:00:01\r\u001b[K     |█████▎                          | 256kB 7.6MB/s eta 0:00:01\r\u001b[K     |█████▌                          | 266kB 7.6MB/s eta 0:00:01\r\u001b[K     |█████▊                          | 276kB 7.6MB/s eta 0:00:01\r\u001b[K     |██████                          | 286kB 7.6MB/s eta 0:00:01\r\u001b[K     |██████▏                         | 296kB 7.6MB/s eta 0:00:01\r\u001b[K     |██████▍                         | 307kB 7.6MB/s eta 0:00:01\r\u001b[K     |██████▋                         | 317kB 7.6MB/s eta 0:00:01\r\u001b[K     |██████▊                         | 327kB 7.6MB/s eta 0:00:01\r\u001b[K     |███████                         | 337kB 7.6MB/s eta 0:00:01\r\u001b[K     |███████▏                        | 348kB 7.6MB/s eta 0:00:01\r\u001b[K     |███████▍                        | 358kB 7.6MB/s eta 0:00:01\r\u001b[K     |███████▋                        | 368kB 7.6MB/s eta 0:00:01\r\u001b[K     |███████▉                        | 378kB 7.6MB/s eta 0:00:01\r\u001b[K     |████████                        | 389kB 7.6MB/s eta 0:00:01\r\u001b[K     |████████▎                       | 399kB 7.6MB/s eta 0:00:01\r\u001b[K     |████████▌                       | 409kB 7.6MB/s eta 0:00:01\r\u001b[K     |████████▊                       | 419kB 7.6MB/s eta 0:00:01\r\u001b[K     |█████████                       | 430kB 7.6MB/s eta 0:00:01\r\u001b[K     |█████████                       | 440kB 7.6MB/s eta 0:00:01\r\u001b[K     |█████████▎                      | 450kB 7.6MB/s eta 0:00:01\r\u001b[K     |█████████▌                      | 460kB 7.6MB/s eta 0:00:01\r\u001b[K     |█████████▊                      | 471kB 7.6MB/s eta 0:00:01\r\u001b[K     |██████████                      | 481kB 7.6MB/s eta 0:00:01\r\u001b[K     |██████████▏                     | 491kB 7.6MB/s eta 0:00:01\r\u001b[K     |██████████▍                     | 501kB 7.6MB/s eta 0:00:01\r\u001b[K     |██████████▋                     | 512kB 7.6MB/s eta 0:00:01\r\u001b[K     |██████████▉                     | 522kB 7.6MB/s eta 0:00:01\r\u001b[K     |███████████                     | 532kB 7.6MB/s eta 0:00:01\r\u001b[K     |███████████▎                    | 542kB 7.6MB/s eta 0:00:01\r\u001b[K     |███████████▍                    | 552kB 7.6MB/s eta 0:00:01\r\u001b[K     |███████████▋                    | 563kB 7.6MB/s eta 0:00:01\r\u001b[K     |███████████▉                    | 573kB 7.6MB/s eta 0:00:01\r\u001b[K     |████████████                    | 583kB 7.6MB/s eta 0:00:01\r\u001b[K     |████████████▎                   | 593kB 7.6MB/s eta 0:00:01\r\u001b[K     |████████████▌                   | 604kB 7.6MB/s eta 0:00:01\r\u001b[K     |████████████▊                   | 614kB 7.6MB/s eta 0:00:01\r\u001b[K     |█████████████                   | 624kB 7.6MB/s eta 0:00:01\r\u001b[K     |█████████████▏                  | 634kB 7.6MB/s eta 0:00:01\r\u001b[K     |█████████████▍                  | 645kB 7.6MB/s eta 0:00:01\r\u001b[K     |█████████████▌                  | 655kB 7.6MB/s eta 0:00:01\r\u001b[K     |█████████████▊                  | 665kB 7.6MB/s eta 0:00:01\r\u001b[K     |██████████████                  | 675kB 7.6MB/s eta 0:00:01\r\u001b[K     |██████████████▏                 | 686kB 7.6MB/s eta 0:00:01\r\u001b[K     |██████████████▍                 | 696kB 7.6MB/s eta 0:00:01\r\u001b[K     |██████████████▋                 | 706kB 7.6MB/s eta 0:00:01\r\u001b[K     |██████████████▉                 | 716kB 7.6MB/s eta 0:00:01\r\u001b[K     |███████████████                 | 727kB 7.6MB/s eta 0:00:01\r\u001b[K     |███████████████▎                | 737kB 7.6MB/s eta 0:00:01\r\u001b[K     |███████████████▌                | 747kB 7.6MB/s eta 0:00:01\r\u001b[K     |███████████████▊                | 757kB 7.6MB/s eta 0:00:01\r\u001b[K     |███████████████▉                | 768kB 7.6MB/s eta 0:00:01\r\u001b[K     |████████████████                | 778kB 7.6MB/s eta 0:00:01\r\u001b[K     |████████████████▎               | 788kB 7.6MB/s eta 0:00:01\r\u001b[K     |████████████████▌               | 798kB 7.6MB/s eta 0:00:01\r\u001b[K     |████████████████▊               | 808kB 7.6MB/s eta 0:00:01\r\u001b[K     |█████████████████               | 819kB 7.6MB/s eta 0:00:01\r\u001b[K     |█████████████████▏              | 829kB 7.6MB/s eta 0:00:01\r\u001b[K     |█████████████████▍              | 839kB 7.6MB/s eta 0:00:01\r\u001b[K     |█████████████████▋              | 849kB 7.6MB/s eta 0:00:01\r\u001b[K     |█████████████████▉              | 860kB 7.6MB/s eta 0:00:01\r\u001b[K     |██████████████████              | 870kB 7.6MB/s eta 0:00:01\r\u001b[K     |██████████████████▏             | 880kB 7.6MB/s eta 0:00:01\r\u001b[K     |██████████████████▍             | 890kB 7.6MB/s eta 0:00:01\r\u001b[K     |██████████████████▋             | 901kB 7.6MB/s eta 0:00:01\r\u001b[K     |██████████████████▉             | 911kB 7.6MB/s eta 0:00:01\r\u001b[K     |███████████████████             | 921kB 7.6MB/s eta 0:00:01\r\u001b[K     |███████████████████▎            | 931kB 7.6MB/s eta 0:00:01\r\u001b[K     |███████████████████▌            | 942kB 7.6MB/s eta 0:00:01\r\u001b[K     |███████████████████▊            | 952kB 7.6MB/s eta 0:00:01\r\u001b[K     |████████████████████            | 962kB 7.6MB/s eta 0:00:01\r\u001b[K     |████████████████████▏           | 972kB 7.6MB/s eta 0:00:01\r\u001b[K     |████████████████████▎           | 983kB 7.6MB/s eta 0:00:01\r\u001b[K     |████████████████████▌           | 993kB 7.6MB/s eta 0:00:01\r\u001b[K     |████████████████████▊           | 1.0MB 7.6MB/s eta 0:00:01\r\u001b[K     |█████████████████████           | 1.0MB 7.6MB/s eta 0:00:01\r\u001b[K     |█████████████████████▏          | 1.0MB 7.6MB/s eta 0:00:01\r\u001b[K     |█████████████████████▍          | 1.0MB 7.6MB/s eta 0:00:01\r\u001b[K     |█████████████████████▋          | 1.0MB 7.6MB/s eta 0:00:01\r\u001b[K     |█████████████████████▉          | 1.1MB 7.6MB/s eta 0:00:01\r\u001b[K     |██████████████████████          | 1.1MB 7.6MB/s eta 0:00:01\r\u001b[K     |██████████████████████▎         | 1.1MB 7.6MB/s eta 0:00:01\r\u001b[K     |██████████████████████▌         | 1.1MB 7.6MB/s eta 0:00:01\r\u001b[K     |██████████████████████▋         | 1.1MB 7.6MB/s eta 0:00:01\r\u001b[K     |██████████████████████▉         | 1.1MB 7.6MB/s eta 0:00:01\r\u001b[K     |███████████████████████         | 1.1MB 7.6MB/s eta 0:00:01\r\u001b[K     |███████████████████████▎        | 1.1MB 7.6MB/s eta 0:00:01\r\u001b[K     |███████████████████████▌        | 1.1MB 7.6MB/s eta 0:00:01\r\u001b[K     |███████████████████████▊        | 1.1MB 7.6MB/s eta 0:00:01\r\u001b[K     |████████████████████████        | 1.2MB 7.6MB/s eta 0:00:01\r\u001b[K     |████████████████████████▏       | 1.2MB 7.6MB/s eta 0:00:01\r\u001b[K     |████████████████████████▍       | 1.2MB 7.6MB/s eta 0:00:01\r\u001b[K     |████████████████████████▋       | 1.2MB 7.6MB/s eta 0:00:01\r\u001b[K     |████████████████████████▉       | 1.2MB 7.6MB/s eta 0:00:01\r\u001b[K     |█████████████████████████       | 1.2MB 7.6MB/s eta 0:00:01\r\u001b[K     |█████████████████████████▏      | 1.2MB 7.6MB/s eta 0:00:01\r\u001b[K     |█████████████████████████▍      | 1.2MB 7.6MB/s eta 0:00:01\r\u001b[K     |█████████████████████████▋      | 1.2MB 7.6MB/s eta 0:00:01\r\u001b[K     |█████████████████████████▉      | 1.2MB 7.6MB/s eta 0:00:01\r\u001b[K     |██████████████████████████      | 1.3MB 7.6MB/s eta 0:00:01\r\u001b[K     |██████████████████████████▎     | 1.3MB 7.6MB/s eta 0:00:01\r\u001b[K     |██████████████████████████▌     | 1.3MB 7.6MB/s eta 0:00:01\r\u001b[K     |██████████████████████████▊     | 1.3MB 7.6MB/s eta 0:00:01\r\u001b[K     |███████████████████████████     | 1.3MB 7.6MB/s eta 0:00:01\r\u001b[K     |███████████████████████████     | 1.3MB 7.6MB/s eta 0:00:01\r\u001b[K     |███████████████████████████▎    | 1.3MB 7.6MB/s eta 0:00:01\r\u001b[K     |███████████████████████████▌    | 1.3MB 7.6MB/s eta 0:00:01\r\u001b[K     |███████████████████████████▊    | 1.3MB 7.6MB/s eta 0:00:01\r\u001b[K     |████████████████████████████    | 1.4MB 7.6MB/s eta 0:00:01\r\u001b[K     |████████████████████████████▏   | 1.4MB 7.6MB/s eta 0:00:01\r\u001b[K     |████████████████████████████▍   | 1.4MB 7.6MB/s eta 0:00:01\r\u001b[K     |████████████████████████████▋   | 1.4MB 7.6MB/s eta 0:00:01\r\u001b[K     |████████████████████████████▉   | 1.4MB 7.6MB/s eta 0:00:01\r\u001b[K     |█████████████████████████████   | 1.4MB 7.6MB/s eta 0:00:01\r\u001b[K     |█████████████████████████████▎  | 1.4MB 7.6MB/s eta 0:00:01\r\u001b[K     |█████████████████████████████▍  | 1.4MB 7.6MB/s eta 0:00:01\r\u001b[K     |█████████████████████████████▋  | 1.4MB 7.6MB/s eta 0:00:01\r\u001b[K     |█████████████████████████████▉  | 1.4MB 7.6MB/s eta 0:00:01\r\u001b[K     |██████████████████████████████  | 1.5MB 7.6MB/s eta 0:00:01\r\u001b[K     |██████████████████████████████▎ | 1.5MB 7.6MB/s eta 0:00:01\r\u001b[K     |██████████████████████████████▌ | 1.5MB 7.6MB/s eta 0:00:01\r\u001b[K     |██████████████████████████████▊ | 1.5MB 7.6MB/s eta 0:00:01\r\u001b[K     |███████████████████████████████ | 1.5MB 7.6MB/s eta 0:00:01\r\u001b[K     |███████████████████████████████▏| 1.5MB 7.6MB/s eta 0:00:01\r\u001b[K     |███████████████████████████████▍| 1.5MB 7.6MB/s eta 0:00:01\r\u001b[K     |███████████████████████████████▋| 1.5MB 7.6MB/s eta 0:00:01\r\u001b[K     |███████████████████████████████▊| 1.5MB 7.6MB/s eta 0:00:01\r\u001b[K     |████████████████████████████████| 1.5MB 7.6MB/s eta 0:00:01\r\u001b[K     |████████████████████████████████| 1.6MB 7.6MB/s \n",
            "\u001b[?25hInstalling collected packages: pip\n",
            "  Found existing installation: pip 19.3.1\n",
            "    Uninstalling pip-19.3.1:\n",
            "      Successfully uninstalled pip-19.3.1\n",
            "Successfully installed pip-21.1\n"
          ],
          "name": "stdout"
        }
      ]
    },
    {
      "cell_type": "code",
      "metadata": {
        "colab": {
          "base_uri": "https://localhost:8080/"
        },
        "id": "pkDLaGV9ailx",
        "outputId": "724530fd-0756-47d8-8b4f-163fe5725fc8"
      },
      "source": [
        "pip install --upgrade jupyter"
      ],
      "execution_count": null,
      "outputs": [
        {
          "output_type": "stream",
          "text": [
            "\u001b[33mWARNING: Value for scheme.platlib does not match. Please report this to <https://github.com/pypa/pip/issues/9617>\n",
            "distutils: /usr/local/lib/python3.7/dist-packages\n",
            "sysconfig: /usr/lib/python3.7/site-packages\u001b[0m\n",
            "\u001b[33mWARNING: Value for scheme.purelib does not match. Please report this to <https://github.com/pypa/pip/issues/9617>\n",
            "distutils: /usr/local/lib/python3.7/dist-packages\n",
            "sysconfig: /usr/lib/python3.7/site-packages\u001b[0m\n",
            "\u001b[33mWARNING: Value for scheme.headers does not match. Please report this to <https://github.com/pypa/pip/issues/9617>\n",
            "distutils: /usr/local/include/python3.7/UNKNOWN\n",
            "sysconfig: /usr/include/python3.7m\u001b[0m\n",
            "\u001b[33mWARNING: Value for scheme.scripts does not match. Please report this to <https://github.com/pypa/pip/issues/9617>\n",
            "distutils: /usr/local/bin\n",
            "sysconfig: /usr/bin\u001b[0m\n",
            "\u001b[33mWARNING: Value for scheme.data does not match. Please report this to <https://github.com/pypa/pip/issues/9617>\n",
            "distutils: /usr/local\n",
            "sysconfig: /usr\u001b[0m\n",
            "\u001b[33mWARNING: Additional context:\n",
            "user = False\n",
            "home = None\n",
            "root = None\n",
            "prefix = None\u001b[0m\n",
            "Requirement already satisfied: jupyter in /usr/local/lib/python3.7/dist-packages (1.0.0)\n",
            "Requirement already satisfied: jupyter-console in /usr/local/lib/python3.7/dist-packages (from jupyter) (5.2.0)\n",
            "Requirement already satisfied: nbconvert in /usr/local/lib/python3.7/dist-packages (from jupyter) (5.6.1)\n",
            "Requirement already satisfied: notebook in /usr/local/lib/python3.7/dist-packages (from jupyter) (5.3.1)\n",
            "Requirement already satisfied: ipywidgets in /usr/local/lib/python3.7/dist-packages (from jupyter) (7.6.3)\n",
            "Requirement already satisfied: ipykernel in /usr/local/lib/python3.7/dist-packages (from jupyter) (4.10.1)\n",
            "Requirement already satisfied: qtconsole in /usr/local/lib/python3.7/dist-packages (from jupyter) (5.0.3)\n",
            "Requirement already satisfied: traitlets>=4.1.0 in /usr/local/lib/python3.7/dist-packages (from ipykernel->jupyter) (5.0.5)\n",
            "Requirement already satisfied: ipython>=4.0.0 in /usr/local/lib/python3.7/dist-packages (from ipykernel->jupyter) (5.5.0)\n",
            "Requirement already satisfied: jupyter-client in /usr/local/lib/python3.7/dist-packages (from ipykernel->jupyter) (5.3.5)\n",
            "Requirement already satisfied: tornado>=4.0 in /usr/local/lib/python3.7/dist-packages (from ipykernel->jupyter) (5.1.1)\n",
            "Requirement already satisfied: prompt-toolkit<2.0.0,>=1.0.4 in /usr/local/lib/python3.7/dist-packages (from ipython>=4.0.0->ipykernel->jupyter) (1.0.18)\n",
            "Requirement already satisfied: pygments in /usr/local/lib/python3.7/dist-packages (from ipython>=4.0.0->ipykernel->jupyter) (2.6.1)\n",
            "Requirement already satisfied: setuptools>=18.5 in /usr/local/lib/python3.7/dist-packages (from ipython>=4.0.0->ipykernel->jupyter) (56.0.0)\n",
            "Requirement already satisfied: pickleshare in /usr/local/lib/python3.7/dist-packages (from ipython>=4.0.0->ipykernel->jupyter) (0.7.5)\n",
            "Requirement already satisfied: decorator in /usr/local/lib/python3.7/dist-packages (from ipython>=4.0.0->ipykernel->jupyter) (4.4.2)\n",
            "Requirement already satisfied: pexpect in /usr/local/lib/python3.7/dist-packages (from ipython>=4.0.0->ipykernel->jupyter) (4.8.0)\n",
            "Requirement already satisfied: simplegeneric>0.8 in /usr/local/lib/python3.7/dist-packages (from ipython>=4.0.0->ipykernel->jupyter) (0.8.1)\n",
            "Requirement already satisfied: six>=1.9.0 in /usr/local/lib/python3.7/dist-packages (from prompt-toolkit<2.0.0,>=1.0.4->ipython>=4.0.0->ipykernel->jupyter) (1.15.0)\n",
            "Requirement already satisfied: wcwidth in /usr/local/lib/python3.7/dist-packages (from prompt-toolkit<2.0.0,>=1.0.4->ipython>=4.0.0->ipykernel->jupyter) (0.2.5)\n",
            "Requirement already satisfied: ipython-genutils in /usr/local/lib/python3.7/dist-packages (from traitlets>=4.1.0->ipykernel->jupyter) (0.2.0)\n",
            "Requirement already satisfied: jupyterlab-widgets>=1.0.0 in /usr/local/lib/python3.7/dist-packages (from ipywidgets->jupyter) (1.0.0)\n",
            "Requirement already satisfied: nbformat>=4.2.0 in /usr/local/lib/python3.7/dist-packages (from ipywidgets->jupyter) (5.1.3)\n",
            "Requirement already satisfied: widgetsnbextension~=3.5.0 in /usr/local/lib/python3.7/dist-packages (from ipywidgets->jupyter) (3.5.1)\n",
            "Requirement already satisfied: jupyter-core in /usr/local/lib/python3.7/dist-packages (from nbformat>=4.2.0->ipywidgets->jupyter) (4.7.1)\n",
            "Requirement already satisfied: jsonschema!=2.5.0,>=2.4 in /usr/local/lib/python3.7/dist-packages (from nbformat>=4.2.0->ipywidgets->jupyter) (2.6.0)\n",
            "Requirement already satisfied: terminado>=0.8.1 in /usr/local/lib/python3.7/dist-packages (from notebook->jupyter) (0.9.4)\n",
            "Requirement already satisfied: Send2Trash in /usr/local/lib/python3.7/dist-packages (from notebook->jupyter) (1.5.0)\n",
            "Requirement already satisfied: jinja2 in /usr/local/lib/python3.7/dist-packages (from notebook->jupyter) (2.11.3)\n",
            "Requirement already satisfied: python-dateutil>=2.1 in /usr/local/lib/python3.7/dist-packages (from jupyter-client->ipykernel->jupyter) (2.8.1)\n",
            "Requirement already satisfied: pyzmq>=13 in /usr/local/lib/python3.7/dist-packages (from jupyter-client->ipykernel->jupyter) (22.0.3)\n",
            "Requirement already satisfied: ptyprocess in /usr/local/lib/python3.7/dist-packages (from terminado>=0.8.1->notebook->jupyter) (0.7.0)\n",
            "Requirement already satisfied: MarkupSafe>=0.23 in /usr/local/lib/python3.7/dist-packages (from jinja2->notebook->jupyter) (1.1.1)\n",
            "Requirement already satisfied: entrypoints>=0.2.2 in /usr/local/lib/python3.7/dist-packages (from nbconvert->jupyter) (0.3)\n",
            "Requirement already satisfied: testpath in /usr/local/lib/python3.7/dist-packages (from nbconvert->jupyter) (0.4.4)\n",
            "Requirement already satisfied: bleach in /usr/local/lib/python3.7/dist-packages (from nbconvert->jupyter) (3.3.0)\n",
            "Requirement already satisfied: mistune<2,>=0.8.1 in /usr/local/lib/python3.7/dist-packages (from nbconvert->jupyter) (0.8.4)\n",
            "Requirement already satisfied: pandocfilters>=1.4.1 in /usr/local/lib/python3.7/dist-packages (from nbconvert->jupyter) (1.4.3)\n",
            "Requirement already satisfied: defusedxml in /usr/local/lib/python3.7/dist-packages (from nbconvert->jupyter) (0.7.1)\n",
            "Requirement already satisfied: packaging in /usr/local/lib/python3.7/dist-packages (from bleach->nbconvert->jupyter) (20.9)\n",
            "Requirement already satisfied: webencodings in /usr/local/lib/python3.7/dist-packages (from bleach->nbconvert->jupyter) (0.5.1)\n",
            "Requirement already satisfied: pyparsing>=2.0.2 in /usr/local/lib/python3.7/dist-packages (from packaging->bleach->nbconvert->jupyter) (2.4.7)\n",
            "Requirement already satisfied: qtpy in /usr/local/lib/python3.7/dist-packages (from qtconsole->jupyter) (1.9.0)\n",
            "\u001b[33mWARNING: Value for scheme.platlib does not match. Please report this to <https://github.com/pypa/pip/issues/9617>\n",
            "distutils: /usr/local/lib/python3.7/dist-packages\n",
            "sysconfig: /usr/lib/python3.7/site-packages\u001b[0m\n",
            "\u001b[33mWARNING: Value for scheme.purelib does not match. Please report this to <https://github.com/pypa/pip/issues/9617>\n",
            "distutils: /usr/local/lib/python3.7/dist-packages\n",
            "sysconfig: /usr/lib/python3.7/site-packages\u001b[0m\n",
            "\u001b[33mWARNING: Value for scheme.headers does not match. Please report this to <https://github.com/pypa/pip/issues/9617>\n",
            "distutils: /usr/local/include/python3.7/UNKNOWN\n",
            "sysconfig: /usr/include/python3.7m\u001b[0m\n",
            "\u001b[33mWARNING: Value for scheme.scripts does not match. Please report this to <https://github.com/pypa/pip/issues/9617>\n",
            "distutils: /usr/local/bin\n",
            "sysconfig: /usr/bin\u001b[0m\n",
            "\u001b[33mWARNING: Value for scheme.data does not match. Please report this to <https://github.com/pypa/pip/issues/9617>\n",
            "distutils: /usr/local\n",
            "sysconfig: /usr\u001b[0m\n",
            "\u001b[33mWARNING: Additional context:\n",
            "user = False\n",
            "home = None\n",
            "root = None\n",
            "prefix = None\u001b[0m\n",
            "\u001b[33mWARNING: Running pip as root will break packages and permissions. You should install packages reliably by using venv: https://pip.pypa.io/warnings/venv\u001b[0m\n"
          ],
          "name": "stdout"
        }
      ]
    },
    {
      "cell_type": "code",
      "metadata": {
        "id": "BVFzCb-8Y7zf",
        "colab": {
          "base_uri": "https://localhost:8080/"
        },
        "outputId": "90a3e39c-2c14-461a-dcd5-417b01ac945d"
      },
      "source": [
        "pip install --upgrade matplotlib"
      ],
      "execution_count": null,
      "outputs": [
        {
          "output_type": "stream",
          "text": [
            "\u001b[33mWARNING: Value for scheme.platlib does not match. Please report this to <https://github.com/pypa/pip/issues/9617>\n",
            "distutils: /usr/local/lib/python3.7/dist-packages\n",
            "sysconfig: /usr/lib/python3.7/site-packages\u001b[0m\n",
            "\u001b[33mWARNING: Value for scheme.purelib does not match. Please report this to <https://github.com/pypa/pip/issues/9617>\n",
            "distutils: /usr/local/lib/python3.7/dist-packages\n",
            "sysconfig: /usr/lib/python3.7/site-packages\u001b[0m\n",
            "\u001b[33mWARNING: Value for scheme.headers does not match. Please report this to <https://github.com/pypa/pip/issues/9617>\n",
            "distutils: /usr/local/include/python3.7/UNKNOWN\n",
            "sysconfig: /usr/include/python3.7m\u001b[0m\n",
            "\u001b[33mWARNING: Value for scheme.scripts does not match. Please report this to <https://github.com/pypa/pip/issues/9617>\n",
            "distutils: /usr/local/bin\n",
            "sysconfig: /usr/bin\u001b[0m\n",
            "\u001b[33mWARNING: Value for scheme.data does not match. Please report this to <https://github.com/pypa/pip/issues/9617>\n",
            "distutils: /usr/local\n",
            "sysconfig: /usr\u001b[0m\n",
            "\u001b[33mWARNING: Additional context:\n",
            "user = False\n",
            "home = None\n",
            "root = None\n",
            "prefix = None\u001b[0m\n",
            "Requirement already satisfied: matplotlib in /usr/local/lib/python3.7/dist-packages (3.4.1)\n",
            "Requirement already satisfied: pillow>=6.2.0 in /usr/local/lib/python3.7/dist-packages (from matplotlib) (7.1.2)\n",
            "Requirement already satisfied: python-dateutil>=2.7 in /usr/local/lib/python3.7/dist-packages (from matplotlib) (2.8.1)\n",
            "Requirement already satisfied: kiwisolver>=1.0.1 in /usr/local/lib/python3.7/dist-packages (from matplotlib) (1.3.1)\n",
            "Requirement already satisfied: pyparsing>=2.2.1 in /usr/local/lib/python3.7/dist-packages (from matplotlib) (2.4.7)\n",
            "Requirement already satisfied: cycler>=0.10 in /usr/local/lib/python3.7/dist-packages (from matplotlib) (0.10.0)\n",
            "Requirement already satisfied: numpy>=1.16 in /usr/local/lib/python3.7/dist-packages (from matplotlib) (1.20.2)\n",
            "Requirement already satisfied: six in /usr/local/lib/python3.7/dist-packages (from cycler>=0.10->matplotlib) (1.15.0)\n",
            "\u001b[33mWARNING: Value for scheme.platlib does not match. Please report this to <https://github.com/pypa/pip/issues/9617>\n",
            "distutils: /usr/local/lib/python3.7/dist-packages\n",
            "sysconfig: /usr/lib/python3.7/site-packages\u001b[0m\n",
            "\u001b[33mWARNING: Value for scheme.purelib does not match. Please report this to <https://github.com/pypa/pip/issues/9617>\n",
            "distutils: /usr/local/lib/python3.7/dist-packages\n",
            "sysconfig: /usr/lib/python3.7/site-packages\u001b[0m\n",
            "\u001b[33mWARNING: Value for scheme.headers does not match. Please report this to <https://github.com/pypa/pip/issues/9617>\n",
            "distutils: /usr/local/include/python3.7/UNKNOWN\n",
            "sysconfig: /usr/include/python3.7m\u001b[0m\n",
            "\u001b[33mWARNING: Value for scheme.scripts does not match. Please report this to <https://github.com/pypa/pip/issues/9617>\n",
            "distutils: /usr/local/bin\n",
            "sysconfig: /usr/bin\u001b[0m\n",
            "\u001b[33mWARNING: Value for scheme.data does not match. Please report this to <https://github.com/pypa/pip/issues/9617>\n",
            "distutils: /usr/local\n",
            "sysconfig: /usr\u001b[0m\n",
            "\u001b[33mWARNING: Additional context:\n",
            "user = False\n",
            "home = None\n",
            "root = None\n",
            "prefix = None\u001b[0m\n",
            "\u001b[33mWARNING: Running pip as root will break packages and permissions. You should install packages reliably by using venv: https://pip.pypa.io/warnings/venv\u001b[0m\n"
          ],
          "name": "stdout"
        }
      ]
    },
    {
      "cell_type": "code",
      "metadata": {
        "id": "Obb_xL4sY74g",
        "colab": {
          "base_uri": "https://localhost:8080/"
        },
        "outputId": "0f8ed6b9-2fd8-4ea3-f072-bacc0e802bc3"
      },
      "source": [
        "pip install --upgrade numpy"
      ],
      "execution_count": null,
      "outputs": [
        {
          "output_type": "stream",
          "text": [
            "\u001b[33mWARNING: Value for scheme.platlib does not match. Please report this to <https://github.com/pypa/pip/issues/9617>\n",
            "distutils: /usr/local/lib/python3.7/dist-packages\n",
            "sysconfig: /usr/lib/python3.7/site-packages\u001b[0m\n",
            "\u001b[33mWARNING: Value for scheme.purelib does not match. Please report this to <https://github.com/pypa/pip/issues/9617>\n",
            "distutils: /usr/local/lib/python3.7/dist-packages\n",
            "sysconfig: /usr/lib/python3.7/site-packages\u001b[0m\n",
            "\u001b[33mWARNING: Value for scheme.headers does not match. Please report this to <https://github.com/pypa/pip/issues/9617>\n",
            "distutils: /usr/local/include/python3.7/UNKNOWN\n",
            "sysconfig: /usr/include/python3.7m\u001b[0m\n",
            "\u001b[33mWARNING: Value for scheme.scripts does not match. Please report this to <https://github.com/pypa/pip/issues/9617>\n",
            "distutils: /usr/local/bin\n",
            "sysconfig: /usr/bin\u001b[0m\n",
            "\u001b[33mWARNING: Value for scheme.data does not match. Please report this to <https://github.com/pypa/pip/issues/9617>\n",
            "distutils: /usr/local\n",
            "sysconfig: /usr\u001b[0m\n",
            "\u001b[33mWARNING: Additional context:\n",
            "user = False\n",
            "home = None\n",
            "root = None\n",
            "prefix = None\u001b[0m\n",
            "Requirement already satisfied: numpy in /usr/local/lib/python3.7/dist-packages (1.20.2)\n",
            "\u001b[33mWARNING: Value for scheme.platlib does not match. Please report this to <https://github.com/pypa/pip/issues/9617>\n",
            "distutils: /usr/local/lib/python3.7/dist-packages\n",
            "sysconfig: /usr/lib/python3.7/site-packages\u001b[0m\n",
            "\u001b[33mWARNING: Value for scheme.purelib does not match. Please report this to <https://github.com/pypa/pip/issues/9617>\n",
            "distutils: /usr/local/lib/python3.7/dist-packages\n",
            "sysconfig: /usr/lib/python3.7/site-packages\u001b[0m\n",
            "\u001b[33mWARNING: Value for scheme.headers does not match. Please report this to <https://github.com/pypa/pip/issues/9617>\n",
            "distutils: /usr/local/include/python3.7/UNKNOWN\n",
            "sysconfig: /usr/include/python3.7m\u001b[0m\n",
            "\u001b[33mWARNING: Value for scheme.scripts does not match. Please report this to <https://github.com/pypa/pip/issues/9617>\n",
            "distutils: /usr/local/bin\n",
            "sysconfig: /usr/bin\u001b[0m\n",
            "\u001b[33mWARNING: Value for scheme.data does not match. Please report this to <https://github.com/pypa/pip/issues/9617>\n",
            "distutils: /usr/local\n",
            "sysconfig: /usr\u001b[0m\n",
            "\u001b[33mWARNING: Additional context:\n",
            "user = False\n",
            "home = None\n",
            "root = None\n",
            "prefix = None\u001b[0m\n",
            "\u001b[33mWARNING: Running pip as root will break packages and permissions. You should install packages reliably by using venv: https://pip.pypa.io/warnings/venv\u001b[0m\n"
          ],
          "name": "stdout"
        }
      ]
    },
    {
      "cell_type": "code",
      "metadata": {
        "id": "g8kY4TjpY78M",
        "colab": {
          "base_uri": "https://localhost:8080/"
        },
        "outputId": "cd561edf-498e-4d07-8b79-a9d66ac2f330"
      },
      "source": [
        "pip install --upgrade pandas"
      ],
      "execution_count": null,
      "outputs": [
        {
          "output_type": "stream",
          "text": [
            "\u001b[33mWARNING: Value for scheme.platlib does not match. Please report this to <https://github.com/pypa/pip/issues/9617>\n",
            "distutils: /usr/local/lib/python3.7/dist-packages\n",
            "sysconfig: /usr/lib/python3.7/site-packages\u001b[0m\n",
            "\u001b[33mWARNING: Value for scheme.purelib does not match. Please report this to <https://github.com/pypa/pip/issues/9617>\n",
            "distutils: /usr/local/lib/python3.7/dist-packages\n",
            "sysconfig: /usr/lib/python3.7/site-packages\u001b[0m\n",
            "\u001b[33mWARNING: Value for scheme.headers does not match. Please report this to <https://github.com/pypa/pip/issues/9617>\n",
            "distutils: /usr/local/include/python3.7/UNKNOWN\n",
            "sysconfig: /usr/include/python3.7m\u001b[0m\n",
            "\u001b[33mWARNING: Value for scheme.scripts does not match. Please report this to <https://github.com/pypa/pip/issues/9617>\n",
            "distutils: /usr/local/bin\n",
            "sysconfig: /usr/bin\u001b[0m\n",
            "\u001b[33mWARNING: Value for scheme.data does not match. Please report this to <https://github.com/pypa/pip/issues/9617>\n",
            "distutils: /usr/local\n",
            "sysconfig: /usr\u001b[0m\n",
            "\u001b[33mWARNING: Additional context:\n",
            "user = False\n",
            "home = None\n",
            "root = None\n",
            "prefix = None\u001b[0m\n",
            "Requirement already satisfied: pandas in /usr/local/lib/python3.7/dist-packages (1.2.4)\n",
            "Requirement already satisfied: numpy>=1.16.5 in /usr/local/lib/python3.7/dist-packages (from pandas) (1.20.2)\n",
            "Requirement already satisfied: python-dateutil>=2.7.3 in /usr/local/lib/python3.7/dist-packages (from pandas) (2.8.1)\n",
            "Requirement already satisfied: pytz>=2017.3 in /usr/local/lib/python3.7/dist-packages (from pandas) (2018.9)\n",
            "Requirement already satisfied: six>=1.5 in /usr/local/lib/python3.7/dist-packages (from python-dateutil>=2.7.3->pandas) (1.15.0)\n",
            "\u001b[33mWARNING: Value for scheme.platlib does not match. Please report this to <https://github.com/pypa/pip/issues/9617>\n",
            "distutils: /usr/local/lib/python3.7/dist-packages\n",
            "sysconfig: /usr/lib/python3.7/site-packages\u001b[0m\n",
            "\u001b[33mWARNING: Value for scheme.purelib does not match. Please report this to <https://github.com/pypa/pip/issues/9617>\n",
            "distutils: /usr/local/lib/python3.7/dist-packages\n",
            "sysconfig: /usr/lib/python3.7/site-packages\u001b[0m\n",
            "\u001b[33mWARNING: Value for scheme.headers does not match. Please report this to <https://github.com/pypa/pip/issues/9617>\n",
            "distutils: /usr/local/include/python3.7/UNKNOWN\n",
            "sysconfig: /usr/include/python3.7m\u001b[0m\n",
            "\u001b[33mWARNING: Value for scheme.scripts does not match. Please report this to <https://github.com/pypa/pip/issues/9617>\n",
            "distutils: /usr/local/bin\n",
            "sysconfig: /usr/bin\u001b[0m\n",
            "\u001b[33mWARNING: Value for scheme.data does not match. Please report this to <https://github.com/pypa/pip/issues/9617>\n",
            "distutils: /usr/local\n",
            "sysconfig: /usr\u001b[0m\n",
            "\u001b[33mWARNING: Additional context:\n",
            "user = False\n",
            "home = None\n",
            "root = None\n",
            "prefix = None\u001b[0m\n",
            "\u001b[33mWARNING: Running pip as root will break packages and permissions. You should install packages reliably by using venv: https://pip.pypa.io/warnings/venv\u001b[0m\n"
          ],
          "name": "stdout"
        }
      ]
    },
    {
      "cell_type": "code",
      "metadata": {
        "id": "vtsB32GpY8Az",
        "colab": {
          "base_uri": "https://localhost:8080/"
        },
        "outputId": "c65c72ae-16ef-4429-eab8-3746953563a7"
      },
      "source": [
        "pip install --upgrade scipy"
      ],
      "execution_count": null,
      "outputs": [
        {
          "output_type": "stream",
          "text": [
            "\u001b[33mWARNING: Value for scheme.platlib does not match. Please report this to <https://github.com/pypa/pip/issues/9617>\n",
            "distutils: /usr/local/lib/python3.7/dist-packages\n",
            "sysconfig: /usr/lib/python3.7/site-packages\u001b[0m\n",
            "\u001b[33mWARNING: Value for scheme.purelib does not match. Please report this to <https://github.com/pypa/pip/issues/9617>\n",
            "distutils: /usr/local/lib/python3.7/dist-packages\n",
            "sysconfig: /usr/lib/python3.7/site-packages\u001b[0m\n",
            "\u001b[33mWARNING: Value for scheme.headers does not match. Please report this to <https://github.com/pypa/pip/issues/9617>\n",
            "distutils: /usr/local/include/python3.7/UNKNOWN\n",
            "sysconfig: /usr/include/python3.7m\u001b[0m\n",
            "\u001b[33mWARNING: Value for scheme.scripts does not match. Please report this to <https://github.com/pypa/pip/issues/9617>\n",
            "distutils: /usr/local/bin\n",
            "sysconfig: /usr/bin\u001b[0m\n",
            "\u001b[33mWARNING: Value for scheme.data does not match. Please report this to <https://github.com/pypa/pip/issues/9617>\n",
            "distutils: /usr/local\n",
            "sysconfig: /usr\u001b[0m\n",
            "\u001b[33mWARNING: Additional context:\n",
            "user = False\n",
            "home = None\n",
            "root = None\n",
            "prefix = None\u001b[0m\n",
            "Requirement already satisfied: scipy in /usr/local/lib/python3.7/dist-packages (1.6.2)\n",
            "Requirement already satisfied: numpy<1.23.0,>=1.16.5 in /usr/local/lib/python3.7/dist-packages (from scipy) (1.20.2)\n",
            "\u001b[33mWARNING: Value for scheme.platlib does not match. Please report this to <https://github.com/pypa/pip/issues/9617>\n",
            "distutils: /usr/local/lib/python3.7/dist-packages\n",
            "sysconfig: /usr/lib/python3.7/site-packages\u001b[0m\n",
            "\u001b[33mWARNING: Value for scheme.purelib does not match. Please report this to <https://github.com/pypa/pip/issues/9617>\n",
            "distutils: /usr/local/lib/python3.7/dist-packages\n",
            "sysconfig: /usr/lib/python3.7/site-packages\u001b[0m\n",
            "\u001b[33mWARNING: Value for scheme.headers does not match. Please report this to <https://github.com/pypa/pip/issues/9617>\n",
            "distutils: /usr/local/include/python3.7/UNKNOWN\n",
            "sysconfig: /usr/include/python3.7m\u001b[0m\n",
            "\u001b[33mWARNING: Value for scheme.scripts does not match. Please report this to <https://github.com/pypa/pip/issues/9617>\n",
            "distutils: /usr/local/bin\n",
            "sysconfig: /usr/bin\u001b[0m\n",
            "\u001b[33mWARNING: Value for scheme.data does not match. Please report this to <https://github.com/pypa/pip/issues/9617>\n",
            "distutils: /usr/local\n",
            "sysconfig: /usr\u001b[0m\n",
            "\u001b[33mWARNING: Additional context:\n",
            "user = False\n",
            "home = None\n",
            "root = None\n",
            "prefix = None\u001b[0m\n",
            "\u001b[33mWARNING: Running pip as root will break packages and permissions. You should install packages reliably by using venv: https://pip.pypa.io/warnings/venv\u001b[0m\n"
          ],
          "name": "stdout"
        }
      ]
    },
    {
      "cell_type": "code",
      "metadata": {
        "id": "HLDiO8jLY8EJ",
        "colab": {
          "base_uri": "https://localhost:8080/"
        },
        "outputId": "33a4d53d-aef1-4aa1-b8cd-9e20f0b546aa"
      },
      "source": [
        "pip install --upgrade scikit-learn"
      ],
      "execution_count": null,
      "outputs": [
        {
          "output_type": "stream",
          "text": [
            "\u001b[33mWARNING: Value for scheme.platlib does not match. Please report this to <https://github.com/pypa/pip/issues/9617>\n",
            "distutils: /usr/local/lib/python3.7/dist-packages\n",
            "sysconfig: /usr/lib/python3.7/site-packages\u001b[0m\n",
            "\u001b[33mWARNING: Value for scheme.purelib does not match. Please report this to <https://github.com/pypa/pip/issues/9617>\n",
            "distutils: /usr/local/lib/python3.7/dist-packages\n",
            "sysconfig: /usr/lib/python3.7/site-packages\u001b[0m\n",
            "\u001b[33mWARNING: Value for scheme.headers does not match. Please report this to <https://github.com/pypa/pip/issues/9617>\n",
            "distutils: /usr/local/include/python3.7/UNKNOWN\n",
            "sysconfig: /usr/include/python3.7m\u001b[0m\n",
            "\u001b[33mWARNING: Value for scheme.scripts does not match. Please report this to <https://github.com/pypa/pip/issues/9617>\n",
            "distutils: /usr/local/bin\n",
            "sysconfig: /usr/bin\u001b[0m\n",
            "\u001b[33mWARNING: Value for scheme.data does not match. Please report this to <https://github.com/pypa/pip/issues/9617>\n",
            "distutils: /usr/local\n",
            "sysconfig: /usr\u001b[0m\n",
            "\u001b[33mWARNING: Additional context:\n",
            "user = False\n",
            "home = None\n",
            "root = None\n",
            "prefix = None\u001b[0m\n",
            "Requirement already satisfied: scikit-learn in /usr/local/lib/python3.7/dist-packages (0.24.1)\n",
            "Requirement already satisfied: scipy>=0.19.1 in /usr/local/lib/python3.7/dist-packages (from scikit-learn) (1.6.2)\n",
            "Requirement already satisfied: threadpoolctl>=2.0.0 in /usr/local/lib/python3.7/dist-packages (from scikit-learn) (2.1.0)\n",
            "Requirement already satisfied: joblib>=0.11 in /usr/local/lib/python3.7/dist-packages (from scikit-learn) (1.0.1)\n",
            "Requirement already satisfied: numpy>=1.13.3 in /usr/local/lib/python3.7/dist-packages (from scikit-learn) (1.20.2)\n",
            "\u001b[33mWARNING: Value for scheme.platlib does not match. Please report this to <https://github.com/pypa/pip/issues/9617>\n",
            "distutils: /usr/local/lib/python3.7/dist-packages\n",
            "sysconfig: /usr/lib/python3.7/site-packages\u001b[0m\n",
            "\u001b[33mWARNING: Value for scheme.purelib does not match. Please report this to <https://github.com/pypa/pip/issues/9617>\n",
            "distutils: /usr/local/lib/python3.7/dist-packages\n",
            "sysconfig: /usr/lib/python3.7/site-packages\u001b[0m\n",
            "\u001b[33mWARNING: Value for scheme.headers does not match. Please report this to <https://github.com/pypa/pip/issues/9617>\n",
            "distutils: /usr/local/include/python3.7/UNKNOWN\n",
            "sysconfig: /usr/include/python3.7m\u001b[0m\n",
            "\u001b[33mWARNING: Value for scheme.scripts does not match. Please report this to <https://github.com/pypa/pip/issues/9617>\n",
            "distutils: /usr/local/bin\n",
            "sysconfig: /usr/bin\u001b[0m\n",
            "\u001b[33mWARNING: Value for scheme.data does not match. Please report this to <https://github.com/pypa/pip/issues/9617>\n",
            "distutils: /usr/local\n",
            "sysconfig: /usr\u001b[0m\n",
            "\u001b[33mWARNING: Additional context:\n",
            "user = False\n",
            "home = None\n",
            "root = None\n",
            "prefix = None\u001b[0m\n",
            "\u001b[33mWARNING: Running pip as root will break packages and permissions. You should install packages reliably by using venv: https://pip.pypa.io/warnings/venv\u001b[0m\n"
          ],
          "name": "stdout"
        }
      ]
    },
    {
      "cell_type": "code",
      "metadata": {
        "id": "MPWG-cJ4Y8G0"
      },
      "source": [
        "import jupyter, matplotlib, numpy, pandas, scipy, sklearn"
      ],
      "execution_count": 37,
      "outputs": []
    },
    {
      "cell_type": "code",
      "metadata": {
        "id": "RzxbLo6pY8WR",
        "colab": {
          "base_uri": "https://localhost:8080/",
          "height": 316
        },
        "outputId": "c962fc04-0fa9-4976-cd90-a3d91e6a6bcb"
      },
      "source": [
        "import jupyter, matplotlib, numpy, pandas, scipy, sklearn1"
      ],
      "execution_count": 38,
      "outputs": [
        {
          "output_type": "error",
          "ename": "ModuleNotFoundError",
          "evalue": "ignored",
          "traceback": [
            "\u001b[0;31m---------------------------------------------------------------------------\u001b[0m",
            "\u001b[0;31mModuleNotFoundError\u001b[0m                       Traceback (most recent call last)",
            "\u001b[0;32m<ipython-input-38-8f86a43d54a7>\u001b[0m in \u001b[0;36m<module>\u001b[0;34m()\u001b[0m\n\u001b[0;32m----> 1\u001b[0;31m \u001b[0;32mimport\u001b[0m \u001b[0mjupyter\u001b[0m\u001b[0;34m,\u001b[0m \u001b[0mmatplotlib\u001b[0m\u001b[0;34m,\u001b[0m \u001b[0mnumpy\u001b[0m\u001b[0;34m,\u001b[0m \u001b[0mpandas\u001b[0m\u001b[0;34m,\u001b[0m \u001b[0mscipy\u001b[0m\u001b[0;34m,\u001b[0m \u001b[0msklearn1\u001b[0m\u001b[0;34m\u001b[0m\u001b[0;34m\u001b[0m\u001b[0m\n\u001b[0m",
            "\u001b[0;31mModuleNotFoundError\u001b[0m: No module named 'sklearn1'",
            "",
            "\u001b[0;31m---------------------------------------------------------------------------\u001b[0;32m\nNOTE: If your import is failing due to a missing package, you can\nmanually install dependencies using either !pip or !apt.\n\nTo view examples of installing some common dependencies, click the\n\"Open Examples\" button below.\n\u001b[0;31m---------------------------------------------------------------------------\u001b[0m\n"
          ]
        }
      ]
    }
  ]
}